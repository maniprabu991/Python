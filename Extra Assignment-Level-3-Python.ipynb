{
 "cells": [
  {
   "cell_type": "code",
   "execution_count": 1,
   "id": "1c65a1a5",
   "metadata": {},
   "outputs": [
    {
     "name": "stdout",
     "output_type": "stream",
     "text": [
      "value: 10\n",
      "Corret\n"
     ]
    }
   ],
   "source": [
    "# print 'CORRECT' if i == 10\n",
    "\n",
    "i = int(input(\"value: \"))\n",
    "if(i == 10):\n",
    " print(\"Corret\")\n",
    "else:\n",
    " print(\"wrong\")"
   ]
  },
  {
   "cell_type": "code",
   "execution_count": 2,
   "id": "9b55e051",
   "metadata": {},
   "outputs": [
    {
     "name": "stdout",
     "output_type": "stream",
     "text": [
      "Enter the password: HOPE@123\n",
      "Your password is correct\n"
     ]
    }
   ],
   "source": [
    "# Check the password, using if and else\n",
    "\n",
    "password = input(\"Enter the password: \")\n",
    "if(password == \"HOPE@123\" ):\n",
    " print(\"Your password is correct\")\n",
    "else:\n",
    " print(\"Your password is wrong, check your password\")"
   ]
  },
  {
   "cell_type": "code",
   "execution_count": 3,
   "id": "117c967f",
   "metadata": {},
   "outputs": [
    {
     "name": "stdout",
     "output_type": "stream",
     "text": [
      "age: 20\n",
      "Adult\n"
     ]
    }
   ],
   "source": [
    "# Catagory the people by their age like children, adult, citizen, senior citizen.\n",
    "\n",
    "age = int(input(\"age: \"))\n",
    "if (age <= 18):\n",
    " print(\"Children\")\n",
    "elif (age <= 35):\n",
    " print(\"Adult\")\n",
    "elif (age <= 60):\n",
    " print(\"Citizen\")\n",
    "else:\n",
    " print(\"senior citizen\")"
   ]
  },
  {
   "cell_type": "code",
   "execution_count": 10,
   "id": "42f32ddb",
   "metadata": {},
   "outputs": [
    {
     "name": "stdout",
     "output_type": "stream",
     "text": [
      "Enter any number:1\n",
      "No is positive\n"
     ]
    }
   ],
   "source": [
    "# Find whether given number is positive or negative\n",
    "\n",
    "num = int(input(\"Enter any number:\"))\n",
    "if num>0:\n",
    " print(\"No is positive\")\n",
    "elif num<0:\n",
    " print(\"No is negative\")\n",
    "else:\n",
    " print(\"Zero\")"
   ]
  },
  {
   "cell_type": "code",
   "execution_count": 9,
   "id": "f6ce3daf",
   "metadata": {},
   "outputs": [
    {
     "name": "stdout",
     "output_type": "stream",
     "text": [
      "Enter a number to check:22\n",
      "No is not divisible by 5\n"
     ]
    }
   ],
   "source": [
    "# Check whether the given number is divisible by 5\n",
    "\n",
    "a = int(input(\"Enter a number to check:\"))\n",
    "if (a%5==0):\n",
    " print(\"No is divisible by 5\")\n",
    "else:\n",
    " print(\"No is not divisible by 5\")"
   ]
  },
  {
   "cell_type": "code",
   "execution_count": null,
   "id": "cbb6e8b4",
   "metadata": {},
   "outputs": [],
   "source": []
  }
 ],
 "metadata": {
  "kernelspec": {
   "display_name": "Python 3 (ipykernel)",
   "language": "python",
   "name": "python3"
  },
  "language_info": {
   "codemirror_mode": {
    "name": "ipython",
    "version": 3
   },
   "file_extension": ".py",
   "mimetype": "text/x-python",
   "name": "python",
   "nbconvert_exporter": "python",
   "pygments_lexer": "ipython3",
   "version": "3.11.5"
  }
 },
 "nbformat": 4,
 "nbformat_minor": 5
}
