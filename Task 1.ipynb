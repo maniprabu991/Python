{
 "cells": [
  {
   "cell_type": "code",
   "execution_count": 2,
   "id": "605cb4f8",
   "metadata": {},
   "outputs": [
    {
     "name": "stdout",
     "output_type": "stream",
     "text": [
      "The Addition of Two Number!\n",
      "The Number1 is: 20\n",
      "The Number2 is: 40\n",
      "The Answer is: 60\n"
     ]
    }
   ],
   "source": [
    "num1 = 20\n",
    "num2 = 40\n",
    "add = num1 + num2\n",
    "print(\"The Addition of Two Number!\")\n",
    "print(\"The Number1 is:\", num1)\n",
    "print(\"The Number2 is:\", num2)\n",
    "print(\"The Answer is:\", add)"
   ]
  },
  {
   "cell_type": "code",
   "execution_count": null,
   "id": "bc5c5f6b",
   "metadata": {},
   "outputs": [],
   "source": []
  }
 ],
 "metadata": {
  "kernelspec": {
   "display_name": "Python 3 (ipykernel)",
   "language": "python",
   "name": "python3"
  },
  "language_info": {
   "codemirror_mode": {
    "name": "ipython",
    "version": 3
   },
   "file_extension": ".py",
   "mimetype": "text/x-python",
   "name": "python",
   "nbconvert_exporter": "python",
   "pygments_lexer": "ipython3",
   "version": "3.11.5"
  }
 },
 "nbformat": 4,
 "nbformat_minor": 5
}
