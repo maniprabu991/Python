{
 "cells": [
  {
   "cell_type": "code",
   "execution_count": 2,
   "id": "1da62a46",
   "metadata": {},
   "outputs": [
    {
     "name": "stdout",
     "output_type": "stream",
     "text": [
      "0\n",
      "1\n",
      "2\n",
      "3\n",
      "4\n",
      "5\n",
      "6\n",
      "7\n",
      "8\n",
      "9\n",
      "10\n",
      "11\n",
      "12\n",
      "13\n",
      "14\n",
      "15\n",
      "16\n",
      "17\n",
      "18\n",
      "19\n"
     ]
    }
   ],
   "source": [
    "# print 0 to 20 by using range\n",
    "for temp in range(0,20):\n",
    "    print(temp)"
   ]
  },
  {
   "cell_type": "code",
   "execution_count": 3,
   "id": "178ad7aa",
   "metadata": {},
   "outputs": [
    {
     "name": "stdout",
     "output_type": "stream",
     "text": [
      "10 11 12 13 14 15 16 17 18 19 "
     ]
    }
   ],
   "source": [
    "# print range 10 to 20\n",
    "for temp in range(10,20):\n",
    "    print(temp, end=' ')"
   ]
  },
  {
   "cell_type": "code",
   "execution_count": 5,
   "id": "63836691",
   "metadata": {},
   "outputs": [
    {
     "name": "stdout",
     "output_type": "stream",
     "text": [
      "[10, 20, 14, 55, 43, 87, 76]\n",
      "Number of item in the List2: 7\n"
     ]
    }
   ],
   "source": [
    "# print number of items in the list by using 'len'\n",
    "length = [10, 20, 14, 55, 43, 87, 76]\n",
    "print(length)\n",
    "print(\"Number of item in the List2:\",(len(length)))"
   ]
  },
  {
   "cell_type": "code",
   "execution_count": 7,
   "id": "ead99efb",
   "metadata": {},
   "outputs": [
    {
     "name": "stdout",
     "output_type": "stream",
     "text": [
      "Artificial Intelligence\n",
      "A\n",
      "r\n",
      "t\n",
      "i\n",
      "f\n",
      "i\n",
      "c\n",
      "i\n",
      "a\n",
      "l\n",
      " \n",
      "I\n",
      "n\n",
      "t\n",
      "e\n",
      "l\n",
      "l\n",
      "i\n",
      "g\n",
      "e\n",
      "n\n",
      "c\n",
      "e\n"
     ]
    }
   ],
   "source": [
    "inputString = input()\n",
    "for output in inputString:\n",
    "    print(output)"
   ]
  },
  {
   "cell_type": "code",
   "execution_count": 9,
   "id": "0d01389b",
   "metadata": {},
   "outputs": [
    {
     "name": "stdout",
     "output_type": "stream",
     "text": [
      "-Your Name-\n",
      "-Your Age-\n",
      "-Your Profession-\n"
     ]
    }
   ],
   "source": [
    "list = ['-Your Name-','-Your Age-','-Your Profession-']\n",
    "for output in list:\n",
    "    print(output)"
   ]
  },
  {
   "cell_type": "code",
   "execution_count": 10,
   "id": "5858eb73",
   "metadata": {},
   "outputs": [
    {
     "name": "stdout",
     "output_type": "stream",
     "text": [
      "(1, 'Welcome', 2, 'Hope')\n"
     ]
    }
   ],
   "source": [
    "# Print this mixered datatype using Tuples\n",
    "Tuples = (1, 'Welcome', 2, 'Hope')\n",
    "print(Tuples)"
   ]
  },
  {
   "cell_type": "code",
   "execution_count": 11,
   "id": "ceaa05cf",
   "metadata": {},
   "outputs": [
    {
     "name": "stdout",
     "output_type": "stream",
     "text": [
      "((0, 1, 2, 3), ('python', 'HOPE'))\n"
     ]
    }
   ],
   "source": [
    "Tuple1 = (0, 1, 2, 3)\n",
    "Tuple2 = ('python', 'HOPE')\n",
    "Tuple3 = (Tuple1, Tuple2)\n",
    "print(Tuple3)"
   ]
  },
  {
   "cell_type": "code",
   "execution_count": 16,
   "id": "b03dc267",
   "metadata": {},
   "outputs": [
    {
     "name": "stdout",
     "output_type": "stream",
     "text": [
      "(20,10,16,19,25,1,276,188)\n",
      "19 is odd\n",
      "25 is odd\n",
      "1 is odd\n"
     ]
    }
   ],
   "source": [
    "# print Odd Numbers in the list\n",
    "list = [20,10,16,19,25,1,276,188]\n",
    "print(\"(20,10,16,19,25,1,276,188)\")\n",
    "for li in list:\n",
    " if (li % 2 == 1):\n",
    "     print(li,\"is odd\")"
   ]
  },
  {
   "cell_type": "code",
   "execution_count": 17,
   "id": "9a7cd5e2",
   "metadata": {},
   "outputs": [
    {
     "name": "stdout",
     "output_type": "stream",
     "text": [
      "(20,10,16,19,25,1,276,188)\n",
      "20 is Even\n",
      "10 is Even\n",
      "16 is Even\n",
      "276 is Even\n",
      "188 is Even\n"
     ]
    }
   ],
   "source": [
    "# print Even Numbers in the list\n",
    "list = [20,10,16,19,25,1,276,188]\n",
    "print(\"(20,10,16,19,25,1,276,188)\")\n",
    "for li in list:\n",
    " if (li % 2 == 0):\n",
    "     print(li,\"is Even\")"
   ]
  },
  {
   "cell_type": "code",
   "execution_count": null,
   "id": "1368b686",
   "metadata": {},
   "outputs": [],
   "source": []
  }
 ],
 "metadata": {
  "kernelspec": {
   "display_name": "Python 3 (ipykernel)",
   "language": "python",
   "name": "python3"
  },
  "language_info": {
   "codemirror_mode": {
    "name": "ipython",
    "version": 3
   },
   "file_extension": ".py",
   "mimetype": "text/x-python",
   "name": "python",
   "nbconvert_exporter": "python",
   "pygments_lexer": "ipython3",
   "version": "3.11.5"
  }
 },
 "nbformat": 4,
 "nbformat_minor": 5
}
