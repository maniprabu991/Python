{
 "cells": [
  {
   "cell_type": "code",
   "execution_count": 1,
   "id": "a821004a",
   "metadata": {},
   "outputs": [
    {
     "name": "stdout",
     "output_type": "stream",
     "text": [
      "HOPE AI\n"
     ]
    }
   ],
   "source": [
    "#print statement\n",
    "print('HOPE AI')"
   ]
  },
  {
   "cell_type": "code",
   "execution_count": 2,
   "id": "569417d0",
   "metadata": {},
   "outputs": [
    {
     "name": "stdout",
     "output_type": "stream",
     "text": [
      "Enter yout institute name? :HOPE AI\n"
     ]
    }
   ],
   "source": [
    "# Buy input\n",
    "input_string = input('Enter yout institute name? :')"
   ]
  },
  {
   "cell_type": "code",
   "execution_count": 3,
   "id": "5be6ee1a",
   "metadata": {},
   "outputs": [
    {
     "name": "stdout",
     "output_type": "stream",
     "text": [
      "Enter your name: Mani\n",
      "Enter your age: 30\n",
      "Enter your school name: Govt school\n",
      "Enter your degree: ME CSE\n"
     ]
    }
   ],
   "source": [
    "# Buy inputs\n",
    "name = input('Enter your name: ')\n",
    "age = input('Enter your age: ')\n",
    "school = input('Enter your school name: ')\n",
    "degree = input('Enter your degree: ')"
   ]
  },
  {
   "cell_type": "code",
   "execution_count": 4,
   "id": "1db11045",
   "metadata": {},
   "outputs": [
    {
     "name": "stdout",
     "output_type": "stream",
     "text": [
      "a= 43\n",
      "b= 34\n",
      "add =  77\n"
     ]
    }
   ],
   "source": [
    "#Addition\n",
    "num1 = int(input('a= '))\n",
    "num2 = int(input('b= '))\n",
    "print('add = ',(num1+num2))"
   ]
  },
  {
   "cell_type": "code",
   "execution_count": 5,
   "id": "148c9d81",
   "metadata": {},
   "outputs": [
    {
     "name": "stdout",
     "output_type": "stream",
     "text": [
      "a= 43\n",
      "b= 34\n",
      "Sub =  9\n"
     ]
    }
   ],
   "source": [
    "#Substraction\n",
    "num1 = int(input('a= '))\n",
    "num2 = int(input('b= '))\n",
    "print('Sub = ',(num1-num2))"
   ]
  },
  {
   "cell_type": "code",
   "execution_count": 6,
   "id": "c5f6c7f9",
   "metadata": {},
   "outputs": [
    {
     "name": "stdout",
     "output_type": "stream",
     "text": [
      "a= 63\n",
      "b= 97\n",
      "Mul =  6111\n"
     ]
    }
   ],
   "source": [
    "#Multiplication\n",
    "num1 = int(input('a= '))\n",
    "num2 = int(input('b= '))\n",
    "print('Mul = ',(num1*num2))"
   ]
  },
  {
   "cell_type": "code",
   "execution_count": 7,
   "id": "e29069d1",
   "metadata": {},
   "outputs": [
    {
     "name": "stdout",
     "output_type": "stream",
     "text": [
      "a= 76\n",
      "b= 31\n",
      "Float Div =  2.4516129032258065\n"
     ]
    }
   ],
   "source": [
    "#Division\n",
    "num1 = float(input('a= '))\n",
    "num2 = float(input('b= '))\n",
    "print('Float Div = ',(num1/num2))"
   ]
  },
  {
   "cell_type": "code",
   "execution_count": 8,
   "id": "a4b12b75",
   "metadata": {},
   "outputs": [
    {
     "name": "stdout",
     "output_type": "stream",
     "text": [
      "a= 76\n",
      "b= 31\n",
      "Floor Div =  2\n"
     ]
    }
   ],
   "source": [
    "#Floor division\n",
    "num1 = int(input('a= '))\n",
    "num2 = int(input('b= '))\n",
    "print('Floor Div = ',(num1//num2))"
   ]
  },
  {
   "cell_type": "code",
   "execution_count": 9,
   "id": "0c081993",
   "metadata": {},
   "outputs": [
    {
     "name": "stdout",
     "output_type": "stream",
     "text": [
      "a= 76\n",
      "b= 31\n",
      "Modulo =  14\n"
     ]
    }
   ],
   "source": [
    "#Modulo\n",
    "num1 = int(input('a= '))\n",
    "num2 = int(input('b= '))\n",
    "print('Modulo = ',(num1%num2))"
   ]
  },
  {
   "cell_type": "code",
   "execution_count": 11,
   "id": "3c1e077d",
   "metadata": {},
   "outputs": [
    {
     "name": "stdout",
     "output_type": "stream",
     "text": [
      "a= 4\n",
      "b= 4\n",
      "Power =  256\n"
     ]
    }
   ],
   "source": [
    "#power\n",
    "num1 = int(input('a= '))\n",
    "num2 = int(input('b= '))\n",
    "print('Power = ',(num1**num2))"
   ]
  }
 ],
 "metadata": {
  "kernelspec": {
   "display_name": "Python 3 (ipykernel)",
   "language": "python",
   "name": "python3"
  },
  "language_info": {
   "codemirror_mode": {
    "name": "ipython",
    "version": 3
   },
   "file_extension": ".py",
   "mimetype": "text/x-python",
   "name": "python",
   "nbconvert_exporter": "python",
   "pygments_lexer": "ipython3",
   "version": "3.11.5"
  }
 },
 "nbformat": 4,
 "nbformat_minor": 5
}
